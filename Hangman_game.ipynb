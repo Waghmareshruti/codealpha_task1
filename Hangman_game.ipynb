{
 "cells": [
  {
   "cell_type": "code",
   "execution_count": 3,
   "id": "c992db20-adbb-4662-95ac-c63260388d6b",
   "metadata": {},
   "outputs": [
    {
     "name": "stdout",
     "output_type": "stream",
     "text": [
      "apple\n",
      "['_', '_', '_', '_', '_']\n"
     ]
    },
    {
     "name": "stdin",
     "output_type": "stream",
     "text": [
      "Guess a letter:  G\n"
     ]
    },
    {
     "name": "stdout",
     "output_type": "stream",
     "text": [
      "Wrong guess. You have 5 lives left.\n"
     ]
    },
    {
     "name": "stdin",
     "output_type": "stream",
     "text": [
      "Guess a letter:  Y\n"
     ]
    },
    {
     "name": "stdout",
     "output_type": "stream",
     "text": [
      "Wrong guess. You have 4 lives left.\n"
     ]
    },
    {
     "name": "stdin",
     "output_type": "stream",
     "text": [
      "Guess a letter:  A\n"
     ]
    },
    {
     "name": "stdout",
     "output_type": "stream",
     "text": [
      "['a', '_', '_', '_', '_']\n"
     ]
    },
    {
     "name": "stdin",
     "output_type": "stream",
     "text": [
      "Guess a letter:  K\n"
     ]
    },
    {
     "name": "stdout",
     "output_type": "stream",
     "text": [
      "Wrong guess. You have 3 lives left.\n"
     ]
    },
    {
     "name": "stdin",
     "output_type": "stream",
     "text": [
      "Guess a letter:  E\n"
     ]
    },
    {
     "name": "stdout",
     "output_type": "stream",
     "text": [
      "['a', '_', '_', '_', 'e']\n"
     ]
    },
    {
     "name": "stdin",
     "output_type": "stream",
     "text": [
      "Guess a letter:  T\n"
     ]
    },
    {
     "name": "stdout",
     "output_type": "stream",
     "text": [
      "Wrong guess. You have 2 lives left.\n"
     ]
    },
    {
     "name": "stdin",
     "output_type": "stream",
     "text": [
      "Guess a letter:  U\n"
     ]
    },
    {
     "name": "stdout",
     "output_type": "stream",
     "text": [
      "Wrong guess. You have 1 lives left.\n"
     ]
    },
    {
     "name": "stdin",
     "output_type": "stream",
     "text": [
      "Guess a letter:  N\n"
     ]
    },
    {
     "name": "stdout",
     "output_type": "stream",
     "text": [
      "Wrong guess. You have 0 lives left.\n",
      "You lose!!!\n"
     ]
    }
   ],
   "source": [
    "import random\n",
    "\n",
    "word_list = ['apple', 'banana', 'kiwi','lion','tiger','balloon','pen','geometry']\n",
    "chosen_word = random.choice(word_list)\n",
    "print(chosen_word)  \n",
    "display = []\n",
    "lives = 6\n",
    "\n",
    "for i in range(len(chosen_word)):\n",
    "    display += \"_\"\n",
    "print(display)\n",
    "\n",
    "game_over = False\n",
    "\n",
    "while not game_over:\n",
    "    guessed_letter = input(\"Guess a letter: \").lower()\n",
    "    \n",
    "    if guessed_letter in chosen_word:\n",
    "        for position in range(len(chosen_word)):\n",
    "            letter = chosen_word[position]\n",
    "            if letter == guessed_letter:\n",
    "                display[position] = guessed_letter\n",
    "        print(display)\n",
    "    else:\n",
    "        lives -= 1\n",
    "        print(f\"Wrong guess. You have {lives} lives left.\")\n",
    "    \n",
    "    if \"_\" not in display:\n",
    "        game_over = True\n",
    "        print(\"You win!!!\")\n",
    "    \n",
    "    if lives == 0:\n",
    "        game_over = True\n",
    "        print(\"You lose!!!\")\n"
   ]
  },
  {
   "cell_type": "code",
   "execution_count": null,
   "id": "292ce518-f15b-4a4f-b56f-c4e66b48cc0c",
   "metadata": {},
   "outputs": [],
   "source": []
  }
 ],
 "metadata": {
  "kernelspec": {
   "display_name": "Python 3 (ipykernel)",
   "language": "python",
   "name": "python3"
  },
  "language_info": {
   "codemirror_mode": {
    "name": "ipython",
    "version": 3
   },
   "file_extension": ".py",
   "mimetype": "text/x-python",
   "name": "python",
   "nbconvert_exporter": "python",
   "pygments_lexer": "ipython3",
   "version": "3.12.4"
  }
 },
 "nbformat": 4,
 "nbformat_minor": 5
}
